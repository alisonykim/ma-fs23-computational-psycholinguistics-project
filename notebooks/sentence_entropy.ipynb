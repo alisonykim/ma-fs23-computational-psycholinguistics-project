{
 "cells": [
  {
   "attachments": {},
   "cell_type": "markdown",
   "metadata": {},
   "source": [
    "# Approximating the semantic complexity of a sentence\n",
    "\n",
    "<strong>Author:</strong> Alison Y. Kim\n",
    "\n",
    "### Hale, John (2006). <em>Uncertainty About the Rest of the Sentence</em>, Cognitive Science 30 (2006), 643–672\n",
    "\n",
    "\"The [entropy reduction hypothesis] ERH might be glossed as saying that a person’s processing difficulty at a word in a sentence is proportional to the number of bits signaled to the person by that word with respect to a probabilistic grammar the person knows.\"<br>\n",
    "\n",
    "\"The [entropy reduction hypothesis], if correct, would offer just such an explanation. If a person’s difficulty on each word of a sentence is related to the amount of derivational information signaled by that word, then the total difficulty reading a sentence should be the sum of the difficulty on each word.\"\n",
    "\n",
    "### Assumptions for the study\n",
    "\n",
    "We make the simplifying assumption that the Hale's method to measure sentence difficulty (2003b, 2006) can be used to approximate sentential semantic complexity.<br>\n",
    "\n",
    "Given a word $ w_{i} $ and its conditional entropy $ H(w_{i}) $, its <strong>entropy reduction</strong>, $ ER $, is given by\n",
    "$$ ER = max(0, H(w_{i-1}) - H(w_{i})) $$\n",
    "\n",
    "If $ w_{i} $ performs disambiguation relative to the preceding word $ w_{i-1} $, then $ H(w_{i-1}) > H(w_{i}) $ (equivalently, $ H(w_{i}) < H(w_{i-1}) $) and the difference $ H(w_{i-1}) - H(w_{i}) > 0 $. Otherwise, this difference is negative, and by definition, $ ER = 0 $.<br>\n",
    "\n",
    "For a sentence $ S = \\langle x_{1}, \\dots, x_{n} \\rangle $, its difficulty can be approximated by summing the over the difficulties on each word.\n",
    "\n",
    "### Methods\n",
    "\n",
    "To approximate token probabilities, we use <a href=\"https://huggingface.co/gpt2-large\">GPT-2 large</a>, an English language model (LM). It is accessible via the Hugging Face framework.<br>\n",
    "\n",
    "For tensor manipulation and operations, we use PyTorch.\n",
    "\n",
    "### Calculation: Sentential semantic complexity\n",
    "\n",
    "#### Import statements"
   ]
  },
  {
   "cell_type": "code",
   "execution_count": 1,
   "metadata": {},
   "outputs": [
    {
     "name": "stderr",
     "output_type": "stream",
     "text": [
      "[nltk_data] Downloading package punkt to\n",
      "[nltk_data]     /Users/alisonykim/nltk_data...\n",
      "[nltk_data]   Package punkt is already up-to-date!\n"
     ]
    }
   ],
   "source": [
    "from typing import List, Tuple, Union\n",
    "\n",
    "import matplotlib.pyplot as plt\n",
    "import nltk\n",
    "nltk.download('punkt')\n",
    "import seaborn as sns\n",
    "import torch\n",
    "from transformers import PreTrainedTokenizerFast, GPT2TokenizerFast, GPT2LMHeadModel\n",
    "from scipy.stats import ttest_1samp\n",
    "\n",
    "\n",
    "lm = GPT2LMHeadModel.from_pretrained('gpt2-large')\n",
    "tokenizer = GPT2TokenizerFast.from_pretrained('gpt2-large')"
   ]
  },
  {
   "attachments": {},
   "cell_type": "markdown",
   "metadata": {},
   "source": [
    "#### Define sentences\n",
    "\n",
    "Parallel corpora (```common``` = sentences with commonly appearing adverbs, ```rare``` = sentences with rarely appearing adverbs)"
   ]
  },
  {
   "cell_type": "code",
   "execution_count": 2,
   "metadata": {},
   "outputs": [],
   "source": [
    "common = [\n",
    "\t'They looked at each other happily.',\n",
    "\t'The experienced doctor performed the operation sucessfully.',\n",
    "\t'She did not move, continuing to stare at me passionately.',\n",
    "\t'The dogs barked unexpectedly.',\n",
    "\t'The man on the boat waved angrily.',\n",
    "\t'One important person has been continuously absent.',\n",
    "\t'By the swimming pool, the neighbour waited nervously.',\n",
    "\t'It is so easy to be occasionally charitable.',\n",
    "\t'She clings to her marriage desperately.',\n",
    "\t'In this country, racism is spreading constantly.',\n",
    "\t'The little girl screamed and stamped her foot emotionally.',\n",
    "\t'The guests avoided all political discussion carefully.',\n",
    "\t'The day started normally.',\n",
    "\t'She grabbed the microphone stepped onto the stage confidently.',\n",
    "\t'They have been misleading you most unacceptably.',\n",
    "\t'To meet the deadline, the team worked efficiently.',\n",
    "\t'The student studied for the exam carefully.'\n",
    "]"
   ]
  },
  {
   "cell_type": "code",
   "execution_count": 3,
   "metadata": {},
   "outputs": [],
   "source": [
    "rare = [\n",
    "\t'They looked at each other amiably.',\n",
    "\t'The experienced doctor performed the operation dexterously.',\n",
    "\t'She did not move, continuing to stare at me belligerently.',\n",
    "\t'The dogs barked ferociously.',\n",
    "\t'The man on the boat waved affably.',\n",
    "\t'One important person has been conspicuously absent.',\n",
    "\t'By the swimming pool, the neighbour waited languidly.',\n",
    "\t'It is so easy to be vicariously charitable.',\n",
    "\t'She clings to her marriage tenaciously.',\n",
    "\t'In this country, racism has been spreading insidiously.',\n",
    "\t'The little girl screamed and stamped her foot petulantly.',\n",
    "\t'The guests avoided all political discussion sedulously.',\n",
    "\t'The day started mundanely.',\n",
    "\t'She grabbed the microphone and stepped onto the stage audaciously.',\n",
    "\t'They have been misleading you most egregiously.',\n",
    "\t'To meet the deadline, the team worked assiduously.',\n",
    "\t'The student studied for the exam sedulously.'\n",
    "]"
   ]
  },
  {
   "attachments": {},
   "cell_type": "markdown",
   "metadata": {},
   "source": [
    "#### Calculate adverb surprisal\n",
    "* <strong>Step 1:</strong> Tokenize sentences, i.e. map each token to an index in the LM's vocabulary.\n",
    "\t* <strong>Step 1.5:</strong> Extract the adverb from the sentence and tokenize it separately from the entire sentence. (Some words like \"sedulously\" are mapped to more than 1 item in GPT-2's vocabulary. Therefore, we must tokenize the adverb separately from the entire sentence. See: <strong>Note</strong>.)\n",
    "* <strong>Step 2:</strong> Add \\<BOS\\> and <\\EOS\\> tokens to the sequence so that the probabilities we get are properly conditioned on the preceding tokens.\n",
    "* <strong>Step 3:</strong> Calculate tokens' conditional logits (pre-softmax probabilities) under the LM.\n",
    "* <strong>Step 4:</strong> Shift the label (token IDs) and logits tensors.\n",
    "\t* <strong>Logic:</strong> Here, we are interested in the <em>conditional</em> probabilities of words. Therefore, the conditional probability of \\<BOS\\> given previous tokens does not make sense to consider (there are no tokens preceding \\<BOS\\> in the sentence). Similarly, the probabilities over time steps after \\<BOS\\> are not of interest. The labels and logits tensors are shifted accordingly.\n",
    "* <strong>Step 5:</strong> Calculate the negative log likelihood of the vocabulary item(s) corresponding to the adverb.\n",
    "* <strong>Step 6:</strong> Extract the logits corresponding to the token position(s) of the adverb.\n",
    "\n",
    "<strong>Note:</strong> Because some adverbs are mapped to more than 1 vocabulary item, the helper function below is designed to identify the vocabulary item(s) corresponding to the adverb."
   ]
  },
  {
   "cell_type": "code",
   "execution_count": 4,
   "metadata": {},
   "outputs": [],
   "source": [
    "def identify_adverb_ids(\n",
    "    sent: str,\n",
    "    tokenizer: PreTrainedTokenizerFast\n",
    ") -> Union[Tuple[str, List[int], List[int]], Tuple[str, None]]:\n",
    "    \"\"\"\n",
    "    Identify the vocabulary ID(s) corresponding to the adverb.\n",
    "    \n",
    "    Returns:\n",
    "        Tuple of adverb vocabulary ID(s) and adverb token position(s)\n",
    "    \"\"\"\n",
    "    sent_tokenized = nltk.word_tokenize(sent, language='english')\n",
    "    adverb = sent_tokenized[-2] # Adverb always occupy penultimate sentence position\n",
    "    sent_ids = [tokenizer.bos_token_id] + tokenizer(sent)['input_ids'] + [tokenizer.eos_token_id]\n",
    "    # Reverse-engineer the encoding (via, surprise^, decoding) to find corresponding ID(s)\n",
    "    # ^No pun intended\n",
    "    for i in range(len(sent_ids)-1):\n",
    "        curr_id_decoded = tokenizer.decode(sent_ids[i]).strip()\n",
    "        next_id_decoded = tokenizer.decode(sent_ids[i+1]).strip()\n",
    "        if curr_id_decoded == adverb:\n",
    "            return adverb, [sent_ids[i]], [i]\n",
    "        elif curr_id_decoded + next_id_decoded == adverb:\n",
    "            return adverb, sent_ids[i:i+2], [i, i+1]\n",
    "        elif len(curr_id_decoded + next_id_decoded) < len(adverb) and curr_id_decoded + next_id_decoded in adverb: # Substring in ```adverb``` but not equal\n",
    "            try:\n",
    "                next_next_id_decoded = tokenizer.decode(sent_ids[i+2]).strip()\n",
    "                if curr_id_decoded + next_id_decoded + next_next_id_decoded == adverb:\n",
    "                    return adverb, sent_ids[i:i+3], [i, i+1, i+2]\n",
    "            except IndexError:\n",
    "                return adverb, sent_ids[i:i+2], [i, i+1]\n",
    "    return adverb, None"
   ]
  },
  {
   "attachments": {},
   "cell_type": "markdown",
   "metadata": {},
   "source": [
    "##### Common adverb sentences"
   ]
  },
  {
   "cell_type": "code",
   "execution_count": 5,
   "metadata": {},
   "outputs": [],
   "source": [
    "adverb_surprisal_common = dict()\n",
    "for sent in common:\n",
    "\t# Step 1\n",
    "\tsent_tokenized = tokenizer(sent)['input_ids']\n",
    "\t# Step 1.5\n",
    "\tadverb, adverb_tokenized, adverb_time_step = identify_adverb_ids(sent, tokenizer)\n",
    "\t# Step 2\n",
    "\tinput_ids = torch.tensor([tokenizer.bos_token_id] + sent_tokenized + [tokenizer.eos_token_id])\n",
    "\t# Step 3\n",
    "\twith torch.no_grad():\n",
    "\t\toutputs = lm(input_ids, labels=input_ids)\n",
    "\t# Step 4\n",
    "\tlabels_shifted = input_ids[..., 1:].contiguous()\n",
    "\tadverb_time_step_shifted = [time_step + 1 for time_step in adverb_time_step] # Shift time steps\n",
    "\tlogits = outputs['logits']\n",
    "\tlogits_shifted = logits[..., :-1, :].contiguous()\n",
    "\tassert logits_shifted.size(0) == labels_shifted.size(0) # As many labels as logits\n",
    "\t# Step 5\n",
    "\tnlls = -1 * torch.log_softmax(logits, dim=-1) # Token surprisal\n",
    "\t# Step 6\n",
    "\tadverb_surprisal_common[adverb] = [\n",
    "\t\tnlls[time_step][adverb_id].item()\n",
    "\t\tfor time_step, adverb_id in zip(adverb_time_step_shifted, adverb_tokenized)\n",
    "\t]"
   ]
  },
  {
   "cell_type": "code",
   "execution_count": 6,
   "metadata": {},
   "outputs": [
    {
     "data": {
      "text/plain": [
       "{'happily': [16.239721298217773],\n",
       " 'sucessfully': [16.785587310791016, 20.889488220214844, 17.696590423583984],\n",
       " 'passionately': [17.545166015625],\n",
       " 'unexpectedly': [15.709169387817383],\n",
       " 'angrily': [15.555511474609375],\n",
       " 'absent': [12.684146881103516],\n",
       " 'nervously': [15.868431091308594],\n",
       " 'charitable': [11.97054672241211],\n",
       " 'desperately': [13.908486366271973],\n",
       " 'constantly': [15.275320053100586],\n",
       " 'emotionally': [14.575103759765625],\n",
       " 'carefully': [14.272598266601562],\n",
       " 'normally': [15.229681015014648],\n",
       " 'confidently': [16.01131820678711],\n",
       " 'unacceptably': [18.11367416381836, 20.517274856567383, 18.268041610717773],\n",
       " 'efficiently': [16.871641159057617]}"
      ]
     },
     "execution_count": 6,
     "metadata": {},
     "output_type": "execute_result"
    }
   ],
   "source": [
    "adverb_surprisal_common"
   ]
  },
  {
   "attachments": {},
   "cell_type": "markdown",
   "metadata": {},
   "source": [
    "##### Rare adverb sentences"
   ]
  },
  {
   "cell_type": "code",
   "execution_count": 7,
   "metadata": {},
   "outputs": [],
   "source": [
    "adverb_surprisal_rare = dict()\n",
    "for sent in common:\n",
    "\t# Step 1\n",
    "\tsent_tokenized = tokenizer(sent)['input_ids']\n",
    "\t# Step 1.5\n",
    "\tadverb, adverb_tokenized, adverb_time_step = identify_adverb_ids(sent, tokenizer)\n",
    "\t# Step 2\n",
    "\tinput_ids = torch.tensor([tokenizer.bos_token_id] + sent_tokenized + [tokenizer.eos_token_id])\n",
    "\t# Step 3\n",
    "\twith torch.no_grad():\n",
    "\t\toutputs = lm(input_ids, labels=input_ids)\n",
    "\t# Step 4\n",
    "\tlabels_shifted = input_ids[..., 1:].contiguous()\n",
    "\tadverb_time_step_shifted = [time_step + 1 for time_step in adverb_time_step] # Shift time steps\n",
    "\tlogits = outputs['logits']\n",
    "\tlogits_shifted = logits[..., :-1, :].contiguous()\n",
    "\tassert logits_shifted.size(0) == labels_shifted.size(0) # As many labels as logits\n",
    "\t# Step 5\n",
    "\tnlls = -1 * torch.log_softmax(logits, dim=-1) # Token surprisal\n",
    "\t# Step 6\n",
    "\tadverb_surprisal_rare[adverb] = [\n",
    "\t\tnlls[time_step][adverb_id].item()\n",
    "\t\tfor time_step, adverb_id in zip(adverb_time_step_shifted, adverb_tokenized)\n",
    "\t]"
   ]
  },
  {
   "cell_type": "code",
   "execution_count": 8,
   "metadata": {},
   "outputs": [
    {
     "data": {
      "text/plain": [
       "{'happily': [16.239721298217773],\n",
       " 'sucessfully': [16.785587310791016, 20.889488220214844, 17.696590423583984],\n",
       " 'passionately': [17.545166015625],\n",
       " 'unexpectedly': [15.709169387817383],\n",
       " 'angrily': [15.555511474609375],\n",
       " 'absent': [12.684146881103516],\n",
       " 'nervously': [15.868431091308594],\n",
       " 'charitable': [11.97054672241211],\n",
       " 'desperately': [13.908486366271973],\n",
       " 'constantly': [15.275320053100586],\n",
       " 'emotionally': [14.575103759765625],\n",
       " 'carefully': [14.272598266601562],\n",
       " 'normally': [15.229681015014648],\n",
       " 'confidently': [16.01131820678711],\n",
       " 'unacceptably': [18.11367416381836, 20.517274856567383, 18.268041610717773],\n",
       " 'efficiently': [16.871641159057617]}"
      ]
     },
     "execution_count": 8,
     "metadata": {},
     "output_type": "execute_result"
    }
   ],
   "source": [
    "adverb_surprisal_rare"
   ]
  },
  {
   "attachments": {},
   "cell_type": "markdown",
   "metadata": {},
   "source": [
    "#### Calculate sentence entropies\n",
    "* <strong>Steps 1-4:</strong> Same as in surprisal calculations.\n",
    "* <strong>Step 5:</strong> Calculate sentential entropy, approximated as the sum of the token surprisals at each time step (token position).\n",
    "\n",
    "##### Common adverb sentences"
   ]
  },
  {
   "cell_type": "code",
   "execution_count": 9,
   "metadata": {},
   "outputs": [],
   "source": [
    "sent_ents_common = dict()\n",
    "for sent in common:\n",
    "\t# Step 1\n",
    "\ttokenized = tokenizer(sent)['input_ids']\n",
    "\t# Step 2\n",
    "\tinput_ids = torch.tensor([tokenizer.bos_token_id] + tokenized + [tokenizer.eos_token_id])\n",
    "\t# Step 3\n",
    "\twith torch.no_grad():\n",
    "\t\toutputs = lm(input_ids, labels=input_ids)\n",
    "\t# Step 4\n",
    "\tlogits = outputs['logits']\n",
    "\tlogits_shifted = logits[..., :-1, :].contiguous()\n",
    "\t# Step 5\n",
    "\tnlls = -1 * torch.log_softmax(logits, dim=-1) # Token surprisal\n",
    "\tprobs = torch.softmax(logits, dim=-1) # Token probability under the LM\n",
    "\tentropies = torch.sum(nlls * probs, dim=-1) # Sequence distribution entropy\n",
    "\tsent_entropy = torch.sum(entropies, dim=-1) # Sentence entropy = sum over all tokens\n",
    "\t# Update dictionary\n",
    "\tsent_ents_common[sent_entropy] = sent"
   ]
  },
  {
   "cell_type": "code",
   "execution_count": 10,
   "metadata": {},
   "outputs": [
    {
     "name": "stdout",
     "output_type": "stream",
     "text": [
      "Summary: Common sentences\n",
      "35.48668670654297\tThey looked at each other happily.\n",
      "54.327152252197266\tThe experienced doctor performed the operation sucessfully.\n",
      "54.32371139526367\tShe did not move, continuing to stare at me passionately.\n",
      "39.044029235839844\tThe dogs barked unexpectedly.\n",
      "45.53729248046875\tThe man on the boat waved angrily.\n",
      "49.21916961669922\tOne important person has been continuously absent.\n",
      "57.38140869140625\tBy the swimming pool, the neighbour waited nervously.\n",
      "51.66778564453125\tIt is so easy to be occasionally charitable.\n",
      "43.43683624267578\tShe clings to her marriage desperately.\n",
      "48.6048469543457\tIn this country, racism is spreading constantly.\n",
      "53.35969924926758\tThe little girl screamed and stamped her foot emotionally.\n",
      "52.76884078979492\tThe guests avoided all political discussion carefully.\n",
      "35.31064987182617\tThe day started normally.\n",
      "45.85140609741211\tShe grabbed the microphone stepped onto the stage confidently.\n",
      "48.73605728149414\tThey have been misleading you most unacceptably.\n",
      "59.17759323120117\tTo meet the deadline, the team worked efficiently.\n",
      "52.6392707824707\tThe student studied for the exam carefully.\n",
      "\n",
      "Mean: 48.63955307006836 bits\n",
      "Standard deviation: 7.089479923248291 bits\n"
     ]
    }
   ],
   "source": [
    "print('Summary: Common sentences')\n",
    "\n",
    "for sent_ent, sent in sent_ents_common.items():\n",
    "    print(f'{sent_ent.item()}\\t{sent}')\n",
    "print('')\n",
    "\n",
    "ents_common = torch.tensor([ents for ents in sent_ents_common.keys()])\n",
    "print(f'Mean: {torch.mean(ents_common)} bits')\n",
    "print(f'Standard deviation: {torch.std(torch.tensor([ents for ents in sent_ents_common.keys()]))} bits')"
   ]
  },
  {
   "attachments": {},
   "cell_type": "markdown",
   "metadata": {},
   "source": [
    "Now, we determine whether the common sentences differ significantly in their respective semantic entropies. In other words, we test whether the mean of the entropies is 0.\n",
    "\n",
    "$ H_{0, common} $: $ \\mu_{common} = 0 $<br>\n",
    "\n",
    "$ H_{A, common} $: $ \\mu_{common} \\neq 0 $"
   ]
  },
  {
   "cell_type": "code",
   "execution_count": 11,
   "metadata": {},
   "outputs": [
    {
     "data": {
      "text/plain": [
       "Ttest_1sampResult(statistic=28.287833268610353, pvalue=4.320132644800106e-15)"
      ]
     },
     "execution_count": 11,
     "metadata": {},
     "output_type": "execute_result"
    }
   ],
   "source": [
    "res_common = ttest_1samp(ents_common, popmean=0)\n",
    "res_common"
   ]
  },
  {
   "attachments": {},
   "cell_type": "markdown",
   "metadata": {},
   "source": [
    "With a standard choice of $ \\alpha = 0.05 $ and $ p = 4.320E^{-15} $, we can reject $ H_{0, common} $ in favor of $ H_{A, common} $.\n",
    "\n",
    "##### Rare adverb sentences"
   ]
  },
  {
   "cell_type": "code",
   "execution_count": 12,
   "metadata": {},
   "outputs": [],
   "source": [
    "sent_ents_rare = dict()\n",
    "for sent in rare:\n",
    "\t# Step 1\n",
    "\ttokenized = tokenizer(sent)['input_ids']\n",
    "\t# Step 2\n",
    "\tinput_ids = torch.tensor([tokenizer.bos_token_id] + tokenized + [tokenizer.eos_token_id])\n",
    "\t# Step 3\n",
    "\twith torch.no_grad():\n",
    "\t\toutputs = lm(input_ids, labels=input_ids)\n",
    "\t# Step 4\n",
    "\tlogits = outputs['logits']\n",
    "\tlogits_shifted = logits[..., :-1, :].contiguous()\n",
    "\t# Step 5\n",
    "\tnlls = -1 * torch.log_softmax(logits, dim=-1) # Token surprisal\n",
    "\tprobs = torch.softmax(logits, dim=-1) # Token probability under the LM\n",
    "\tentropies = torch.sum(nlls * probs, dim=-1) # Sequence distribution entropy\n",
    "\tsent_entropy = torch.sum(entropies, dim=-1) # Sentence entropy = sum over all tokens\n",
    "\t# Update dictionary\n",
    "\tsent_ents_rare[sent_entropy] = sent"
   ]
  },
  {
   "cell_type": "code",
   "execution_count": 13,
   "metadata": {},
   "outputs": [
    {
     "name": "stdout",
     "output_type": "stream",
     "text": [
      "Summary: Rare sentences\n",
      "35.99302673339844\tThey looked at each other amiably.\n",
      "51.347206115722656\tThe experienced doctor performed the operation dexterously.\n",
      "54.04316329956055\tShe did not move, continuing to stare at me belligerently.\n",
      "38.73253631591797\tThe dogs barked ferociously.\n",
      "47.96455764770508\tThe man on the boat waved affably.\n",
      "43.1782112121582\tOne important person has been conspicuously absent.\n",
      "57.78535461425781\tBy the swimming pool, the neighbour waited languidly.\n",
      "52.48125457763672\tIt is so easy to be vicariously charitable.\n",
      "43.61212158203125\tShe clings to her marriage tenaciously.\n",
      "54.080589294433594\tIn this country, racism has been spreading insidiously.\n",
      "53.07693099975586\tThe little girl screamed and stamped her foot petulantly.\n",
      "53.41648483276367\tThe guests avoided all political discussion sedulously.\n",
      "35.71513366699219\tThe day started mundanely.\n",
      "50.89651107788086\tShe grabbed the microphone and stepped onto the stage audaciously.\n",
      "45.259788513183594\tThey have been misleading you most egregiously.\n",
      "58.75949478149414\tTo meet the deadline, the team worked assiduously.\n",
      "55.71232986450195\tThe student studied for the exam sedulously.\n",
      "\n",
      "Mean: 48.944393157958984\n",
      "Standard deviation: 7.310542583465576\n"
     ]
    }
   ],
   "source": [
    "print('Summary: Rare sentences')\n",
    "\n",
    "for sent_ent, sent in sent_ents_rare.items():\n",
    "    print(f'{sent_ent.item()}\\t{sent}')\n",
    "print('')\n",
    "\n",
    "ents_rare = torch.tensor([ents for ents in sent_ents_rare.keys()])\n",
    "print(f'Mean: {torch.mean(ents_rare)}')\n",
    "print(f'Standard deviation: {torch.std(ents_rare)}')"
   ]
  },
  {
   "attachments": {},
   "cell_type": "markdown",
   "metadata": {},
   "source": [
    "Now, we determine whether the rare sentences differ significantly in their respective semantic entropies. In other words, we test whether the mean of the entropies is 0.\n",
    "\n",
    "$ H_{0, rare} $: $ \\mu_{rare} = 0 $<br>\n",
    "$ H_{A, rare} $: $ \\mu_{rare} \\neq 0 $"
   ]
  },
  {
   "cell_type": "code",
   "execution_count": 14,
   "metadata": {},
   "outputs": [
    {
     "data": {
      "text/plain": [
       "Ttest_1sampResult(statistic=27.604367307509776, pvalue=6.3419644294540635e-15)"
      ]
     },
     "execution_count": 14,
     "metadata": {},
     "output_type": "execute_result"
    }
   ],
   "source": [
    "res_rare = ttest_1samp(ents_rare, popmean=0)\n",
    "res_rare"
   ]
  },
  {
   "attachments": {},
   "cell_type": "markdown",
   "metadata": {},
   "source": [
    "With a standard choice of $ \\alpha = 0.05 $ and $ p = 6.342E^{-15} $, we can reject $ H_{0, rare} $ in favor of $ H_{A, rare} $.\n",
    "\n",
    "#### Distribution of sentence entropies: KDE plot"
   ]
  },
  {
   "cell_type": "code",
   "execution_count": 15,
   "metadata": {},
   "outputs": [
    {
     "data": {
      "image/png": "[encoded data removed]",
      "text/plain": [
       "<Figure size 640x480 with 1 Axes>"
      ]
     },
     "metadata": {},
     "output_type": "display_data"
    }
   ],
   "source": [
    "fig, ax = plt.subplots()\n",
    "\n",
    "# Common\n",
    "ents_common = torch.tensor([ents for ents in sent_ents_common.keys()])\n",
    "sns.kdeplot(\n",
    "    data=ents_common,\n",
    "    ax=ax,\n",
    "    bw_method=0.2,\n",
    "    color='green',\n",
    "    fill=True,\n",
    "    label='Common'\n",
    ");\n",
    "\n",
    "# Rare\n",
    "ents_rare = torch.tensor([ents for ents in sent_ents_rare.keys()])\n",
    "sns.kdeplot(\n",
    "    data=ents_rare,\n",
    "    ax=ax,\n",
    "    bw_method=0.2,\n",
    "    color='blue',\n",
    "    fill=True,\n",
    "    label='Rare'\n",
    ");\n",
    "\n",
    "# Plot params\n",
    "ax.set(title='Sentence entropies')\n",
    "ax.legend(loc='upper left')\n",
    "ax.set(xlabel='Bits');"
   ]
  }
 ],
 "metadata": {
  "kernelspec": {
   "display_name": "venv",
   "language": "python",
   "name": "python3"
  },
  "language_info": {
   "codemirror_mode": {
    "name": "ipython",
    "version": 3
   },
   "file_extension": ".py",
   "mimetype": "text/x-python",
   "name": "python",
   "nbconvert_exporter": "python",
   "pygments_lexer": "ipython3",
   "version": "3.10.8"
  },
  "orig_nbformat": 4
 },
 "nbformat": 4,
 "nbformat_minor": 2
}
